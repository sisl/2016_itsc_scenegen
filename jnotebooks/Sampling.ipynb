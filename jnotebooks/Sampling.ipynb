{
 "cells": [
  {
   "cell_type": "code",
   "execution_count": 2,
   "metadata": {
    "collapsed": false
   },
   "outputs": [
    {
     "data": {
      "text/html": [
       "<script charset=\"utf-8\">(function ($, undefined) {\n",
       "\n",
       "    function createElem(tag, attr, content) {\n",
       "\t// TODO: remove jQuery dependency\n",
       "\tvar el = $(\"<\" + tag + \"/>\").attr(attr);\n",
       "\tif (content) {\n",
       "\t    el.append(content);\n",
       "\t}\n",
       "\treturn el[0];\n",
       "    }\n",
       "\n",
       "    // A widget must expose an id field which identifies it to the backend,\n",
       "    // an elem attribute which is will be added to the DOM, and\n",
       "    // a getState() method which returns the value to be sent to the backend\n",
       "    // a sendUpdate() method which sends its current value to the backend\n",
       "    var Widget = {\n",
       "\tid: undefined,\n",
       "\telem: undefined,\n",
       "\tlabel: undefined,\n",
       "\tgetState: function () {\n",
       "\t    return this.elem.value;\n",
       "\t},\n",
       "\tsendUpdate: undefined\n",
       "    };\n",
       "\n",
       "    var Slider = function (typ, id, init) {\n",
       "\tvar attr = { type:  \"range\",\n",
       "\t\t     value: init.value,\n",
       "\t\t     min:   init.min,\n",
       "\t\t     max:   init.max,\n",
       "\t\t     step:  init.step },\n",
       "\t    elem = createElem(\"input\", attr),\n",
       "\t    self = this;\n",
       "\n",
       "\telem.onchange = function () {\n",
       "\t    self.sendUpdate();\n",
       "\t}\n",
       "\n",
       "\tthis.id = id;\n",
       "\tthis.elem = elem;\n",
       "\tthis.label = init.label;\n",
       "\n",
       "\tInputWidgets.commInitializer(this); // Initialize communication\n",
       "    }\n",
       "    Slider.prototype = Widget;\n",
       "\n",
       "    var Checkbox = function (typ, id, init) {\n",
       "\tvar attr = { type: \"checkbox\",\n",
       "\t\t     checked: init.value },\n",
       "\t    elem = createElem(\"input\", attr),\n",
       "\t    self = this;\n",
       "\n",
       "\tthis.getState = function () {\n",
       "\t    return elem.checked;\n",
       "\t}\n",
       "\telem.onchange = function () {\n",
       "\t    self.sendUpdate();\n",
       "\t}\n",
       "\n",
       "\tthis.id = id;\n",
       "\tthis.elem = elem;\n",
       "\tthis.label = init.label;\n",
       "\n",
       "\tInputWidgets.commInitializer(this);\n",
       "    }\n",
       "    Checkbox.prototype = Widget;\n",
       "\n",
       "    var Button = function (typ, id, init) {\n",
       "\tvar attr = { type:    \"button\",\n",
       "\t\t     value:   init.label },\n",
       "\t    elem = createElem(\"input\", attr),\n",
       "\t    self = this;\n",
       "\tthis.getState = function () {\n",
       "\t    return null;\n",
       "\t}\n",
       "\telem.onclick = function () {\n",
       "\t    self.sendUpdate();\n",
       "\t}\n",
       "\n",
       "\tthis.id = id;\n",
       "\tthis.elem = elem;\n",
       "\tthis.label = init.label;\n",
       "\n",
       "\tInputWidgets.commInitializer(this);\n",
       "    }\n",
       "    Button.prototype = Widget;\n",
       "\n",
       "    var Text = function (typ, id, init) {\n",
       "\tvar attr = { type:  \"text\",\n",
       "\t\t     placeholder: init.label,\n",
       "\t\t     value: init.value },\n",
       "\t    elem = createElem(\"input\", attr),\n",
       "\t    self = this;\n",
       "\tthis.getState = function () {\n",
       "\t    return elem.value;\n",
       "\t}\n",
       "\telem.onkeyup = function () {\n",
       "\t    self.sendUpdate();\n",
       "\t}\n",
       "\n",
       "\tthis.id = id;\n",
       "\tthis.elem = elem;\n",
       "\tthis.label = init.label;\n",
       "\n",
       "\tInputWidgets.commInitializer(this);\n",
       "    }\n",
       "    Text.prototype = Widget;\n",
       "\n",
       "    var Textarea = function (typ, id, init) {\n",
       "\tvar attr = { placeholder: init.label },\n",
       "\t    elem = createElem(\"textarea\", attr, init.value),\n",
       "\t    self = this;\n",
       "\tthis.getState = function () {\n",
       "\t    return elem.value;\n",
       "\t}\n",
       "\telem.onchange = function () {\n",
       "\t    self.sendUpdate();\n",
       "\t}\n",
       "\n",
       "\tthis.id = id;\n",
       "\tthis.elem = elem;\n",
       "\tthis.label = init.label;\n",
       "\n",
       "\tInputWidgets.commInitializer(this);\n",
       "    }\n",
       "    Textarea.prototype = Widget;\n",
       "\n",
       "    // RadioButtons\n",
       "    // Dropdown\n",
       "    // HTML\n",
       "    // Latex\n",
       "\n",
       "    var InputWidgets = {\n",
       "\tSlider: Slider,\n",
       "\tCheckbox: Checkbox,\n",
       "\tButton: Button,\n",
       "\tText: Text,\n",
       "\tTextarea: Textarea,\n",
       "\tdebug: false,\n",
       "\tlog: function () {\n",
       "\t    if (InputWidgets.debug) {\n",
       "\t\tconsole.log.apply(console, arguments);\n",
       "\t    }\n",
       "\t},\n",
       "\t// a central way to initalize communication\n",
       "\t// for widgets.\n",
       "\tcommInitializer: function (widget) {\n",
       "\t    widget.sendUpdate = function () {};\n",
       "\t}\n",
       "    };\n",
       "\n",
       "    window.InputWidgets = InputWidgets;\n",
       "\n",
       "})(jQuery, undefined);\n",
       "</script>"
      ]
     },
     "metadata": {},
     "output_type": "display_data"
    },
    {
     "data": {
      "text/html": [
       "<div id=\"interact-js-shim\">\n",
       "    <script charset=\"utf-8\">\n",
       "(function (IPython, $, _, MathJax, Widgets) {\n",
       "    $.event.special.destroyed = {\n",
       "\tremove: function(o) {\n",
       "\t    if (o.handler) {\n",
       "\t\to.handler.apply(this, arguments)\n",
       "\t    }\n",
       "\t}\n",
       "    }\n",
       "\n",
       "    var OutputArea = IPython.version >= \"4.0.0\" ? require(\"notebook/js/outputarea\").OutputArea : IPython.OutputArea;\n",
       "\n",
       "    var redrawValue = function (container, type, val) {\n",
       "\tvar selector = $(\"<div/>\");\n",
       "\tvar oa = new OutputArea(_.extend(selector, {\n",
       "\t    selector: selector,\n",
       "\t    prompt_area: true,\n",
       "\t    events: IPython.events,\n",
       "\t    keyboard_manager: IPython.keyboard_manager\n",
       "\t})); // Hack to work with IPython 2.1.0\n",
       "\n",
       "\tswitch (type) {\n",
       "\tcase \"image/png\":\n",
       "            var _src = 'data:' + type + ';base64,' + val;\n",
       "\t    $(container).find(\"img\").attr('src', _src);\n",
       "\t    break;\n",
       "\tdefault:\n",
       "\t    var toinsert = OutputArea.append_map[type].apply(\n",
       "\t\toa, [val, {}, selector]\n",
       "\t    );\n",
       "\t    $(container).empty().append(toinsert.contents());\n",
       "\t    selector.remove();\n",
       "\t}\n",
       "\tif (type === \"text/latex\" && MathJax) {\n",
       "\t    MathJax.Hub.Queue([\"Typeset\", MathJax.Hub, toinsert.get(0)]);\n",
       "\t}\n",
       "    }\n",
       "\n",
       "\n",
       "    $(document).ready(function() {\n",
       "\tWidgets.debug = false; // log messages etc in console.\n",
       "\tfunction initComm(evt, data) {\n",
       "\t    var comm_manager = data.kernel.comm_manager;\n",
       "        //_.extend(comm_manager.targets, require(\"widgets/js/widget\"))\n",
       "\t    comm_manager.register_target(\"Signal\", function (comm) {\n",
       "            comm.on_msg(function (msg) {\n",
       "                //Widgets.log(\"message received\", msg);\n",
       "                var val = msg.content.data.value;\n",
       "                $(\".signal-\" + comm.comm_id).each(function() {\n",
       "                var type = $(this).data(\"type\");\n",
       "                if (val[type]) {\n",
       "                    redrawValue(this, type, val[type], type);\n",
       "                }\n",
       "                });\n",
       "                delete val;\n",
       "                delete msg.content.data.value;\n",
       "            });\n",
       "\t    });\n",
       "\n",
       "\t    // coordingate with Comm and redraw Signals\n",
       "\t    // XXX: Test using Reactive here to improve performance\n",
       "\t    $([IPython.events]).on(\n",
       "\t\t'output_appended.OutputArea', function (event, type, value, md, toinsert) {\n",
       "\t\t    if (md && md.reactive) {\n",
       "                // console.log(md.comm_id);\n",
       "                toinsert.addClass(\"signal-\" + md.comm_id);\n",
       "                toinsert.data(\"type\", type);\n",
       "                // Signal back indicating the mimetype required\n",
       "                var comm_manager = IPython.notebook.kernel.comm_manager;\n",
       "                var comm = comm_manager.comms[md.comm_id];\n",
       "                comm.then(function (c) {\n",
       "                    c.send({action: \"subscribe_mime\",\n",
       "                       mime: type});\n",
       "                    toinsert.bind(\"destroyed\", function() {\n",
       "                        c.send({action: \"unsubscribe_mime\",\n",
       "                               mime: type});\n",
       "                    });\n",
       "                })\n",
       "\t\t    }\n",
       "\t    });\n",
       "\t}\n",
       "\n",
       "\ttry {\n",
       "\t    // try to initialize right away. otherwise, wait on the status_started event.\n",
       "\t    initComm(undefined, IPython.notebook);\n",
       "\t} catch (e) {\n",
       "\t    $([IPython.events]).on('kernel_created.Kernel kernel_created.Session', initComm);\n",
       "\t}\n",
       "    });\n",
       "})(IPython, jQuery, _, MathJax, InputWidgets);\n",
       "</script>\n",
       "    <script>\n",
       "        window.interactLoadedFlag = true\n",
       "       $(\"#interact-js-shim\").bind(\"destroyed\", function () {\n",
       "           if (window.interactLoadedFlag) {\n",
       "               console.warn(\"JavaScript required by Interact will be removed if you remove this cell or run using Interact more than once.\")\n",
       "           }\n",
       "       })\n",
       "       $([IPython.events]).on(\"kernel_starting.Kernel kernel_restarting.Kernel\", function () { window.interactLoadedFlag = false })\n",
       "   </script>\n",
       "</div>"
      ]
     },
     "metadata": {},
     "output_type": "display_data"
    },
    {
     "name": "stderr",
     "output_type": "stream",
     "text": [
      "WARNING: New definition \n",
      "    .-(AbstractArray, Union{DataArrays.DataArray, DataArrays.PooledDataArray}) at /home/tim/.julia/v0.4/DataArrays/src/broadcast.jl:285\n",
      "is ambiguous with: \n",
      "    .-(Images.AbstractImageDirect, AbstractArray) at /home/tim/.julia/v0.4/Images/src/algorithms.jl:40.\n",
      "To fix, define \n",
      "    .-(Images.AbstractImageDirect, Union{DataArrays.DataArray, DataArrays.PooledDataArray})\n",
      "before the new definition.\n",
      "WARNING: New definition \n",
      "    .==(AbstractArray{Bool, N<:Any}, Union{DataArrays.PooledDataArray{Bool, R<:Integer, N<:Any}, DataArrays.DataArray{Bool, N<:Any}}) at /home/tim/.julia/v0.4/DataArrays/src/broadcast.jl:330\n",
      "is ambiguous with: \n",
      "    .==(Images.AbstractImageDirect{Bool, N<:Any}, AbstractArray{Bool, N<:Any}) at /home/tim/.julia/v0.4/Images/src/algorithms.jl:181.\n",
      "To fix, define \n",
      "    .==(Images.AbstractImageDirect{Bool, N<:Any}, Union{DataArrays.PooledDataArray{Bool, R<:Integer, N<:Any}, DataArrays.DataArray{Bool, N<:Any}})\n",
      "before the new definition.\n",
      "WARNING: New definition \n",
      "    .==(AbstractArray, Union{DataArrays.DataArray, DataArrays.PooledDataArray}) at /home/tim/.julia/v0.4/DataArrays/src/broadcast.jl:285\n",
      "is ambiguous with: \n",
      "    .==(Images.AbstractImageDirect{Bool, N<:Any}, AbstractArray{Bool, N<:Any}) at /home/tim/.julia/v0.4/Images/src/algorithms.jl:181.\n",
      "To fix, define \n",
      "    .==(Images.AbstractImageDirect{Bool, N<:Any}, Union{DataArrays.DataArray{Bool, N<:Any}, DataArrays.PooledDataArray{Bool, R<:Integer, N<:Any}})\n",
      "before the new definition.\n",
      "WARNING: New definition \n",
      "    .==(AbstractArray, Union{DataArrays.DataArray, DataArrays.PooledDataArray}) at /home/tim/.julia/v0.4/DataArrays/src/broadcast.jl:285\n",
      "is ambiguous with: \n",
      "    .==(Images.AbstractImageDirect, AbstractArray) at /home/tim/.julia/v0.4/Images/src/algorithms.jl:182.\n",
      "To fix, define \n",
      "    .==(Images.AbstractImageDirect, Union{DataArrays.DataArray, DataArrays.PooledDataArray})\n",
      "before the new definition.\n",
      "WARNING: New definition \n",
      "    .+(AbstractArray, Union{DataArrays.DataArray, DataArrays.PooledDataArray}, AbstractArray...) at /home/tim/.julia/v0.4/DataArrays/src/broadcast.jl:297\n",
      "is ambiguous with: \n",
      "    .+(Images.AbstractImageDirect, AbstractArray) at /home/tim/.julia/v0.4/Images/src/algorithms.jl:22.\n",
      "To fix, define \n",
      "    .+(Images.AbstractImageDirect, Union{DataArrays.DataArray, DataArrays.PooledDataArray})\n",
      "before the new definition.\n",
      "WARNING: New definition \n",
      "    .>(AbstractArray{Bool, N<:Any}, Union{DataArrays.PooledDataArray{Bool, R<:Integer, N<:Any}, DataArrays.DataArray{Bool, N<:Any}}) at /home/tim/.julia/v0.4/DataArrays/src/broadcast.jl:330\n",
      "is ambiguous with: \n",
      "    .>(Images.AbstractImageDirect, AbstractArray) at /home/tim/.julia/v0.4/Images/src/algorithms.jl:179.\n",
      "To fix, define \n",
      "    .>(Images.AbstractImageDirect{Bool, N<:Any}, Union{DataArrays.PooledDataArray{Bool, R<:Integer, N<:Any}, DataArrays.DataArray{Bool, N<:Any}})\n",
      "before the new definition.\n",
      "WARNING: New definition \n",
      "    .>(AbstractArray, Union{DataArrays.DataArray, DataArrays.PooledDataArray}) at /home/tim/.julia/v0.4/DataArrays/src/broadcast.jl:285\n",
      "is ambiguous with: \n",
      "    .>(Images.AbstractImageDirect, AbstractArray) at /home/tim/.julia/v0.4/Images/src/algorithms.jl:179.\n",
      "To fix, define \n",
      "    .>(Images.AbstractImageDirect, Union{DataArrays.DataArray, DataArrays.PooledDataArray})\n",
      "before the new definition.\n",
      "WARNING: New definition \n",
      "    ./(AbstractArray, Union{DataArrays.DataArray, DataArrays.PooledDataArray}) at /home/tim/.julia/v0.4/DataArrays/src/broadcast.jl:285\n",
      "is ambiguous with: \n",
      "    ./(Images.AbstractImageDirect, AbstractArray) at /home/tim/.julia/v0.4/Images/src/algorithms.jl:55.\n",
      "To fix, define \n",
      "    ./(Images.AbstractImageDirect, Union{DataArrays.DataArray, DataArrays.PooledDataArray})\n",
      "before the new definition.\n",
      "WARNING: New definition \n",
      "    convert(Type{Array{#S<:Any, N<:Any}}, DataArrays.DataArray{#T<:Any, #N<:Any}) at /home/tim/.julia/v0.4/DataArrays/src/dataarray.jl:357\n",
      "is ambiguous with: \n",
      "    convert(Type{Array{#T<:ColorTypes.Colorant, N<:Any}}, AbstractArray{#S<:Any, #n<:Any}) at /home/tim/.julia/v0.4/Images/src/core.jl:396.\n",
      "To fix, define \n",
      "    convert(Type{Array{_<:ColorTypes.Colorant, N<:Any}}, DataArrays.DataArray{#T<:Any, #N<:Any})\n",
      "before the new definition.\n",
      "WARNING: New definition \n",
      "    +(AbstractArray, DataArrays.DataArray) at /home/tim/.julia/v0.4/DataArrays/src/operators.jl:326\n",
      "is ambiguous with: \n",
      "    +(Images.AbstractImageDirect, AbstractArray) at /home/tim/.julia/v0.4/Images/src/algorithms.jl:18.\n",
      "To fix, define \n",
      "    +(Images.AbstractImageDirect, DataArrays.DataArray)\n",
      "before the new definition.\n",
      "WARNING: New definition \n",
      "    +(AbstractArray, DataArrays.AbstractDataArray) at /home/tim/.julia/v0.4/DataArrays/src/operators.jl:349\n",
      "is ambiguous with: \n",
      "    +(Images.AbstractImageDirect, AbstractArray) at /home/tim/.julia/v0.4/Images/src/algorithms.jl:18.\n",
      "To fix, define \n",
      "    +(Images.AbstractImageDirect, DataArrays.AbstractDataArray)\n",
      "before the new definition.\n",
      "WARNING: New definition \n",
      "    .*(Union{DataArrays.DataArray, DataArrays.PooledDataArray}, AbstractArray...) at /home/tim/.julia/v0.4/DataArrays/src/broadcast.jl:295\n",
      "is ambiguous with: \n",
      "    .*(AbstractArray, Images.AbstractImageDirect) at /home/tim/.julia/v0.4/Images/src/algorithms.jl:52.\n",
      "To fix, define \n",
      "    .*(Union{DataArrays.DataArray, DataArrays.PooledDataArray}, Images.AbstractImageDirect)\n",
      "before the new definition.\n",
      "WARNING: New definition \n",
      "    .*(AbstractArray, Union{DataArrays.DataArray, DataArrays.PooledDataArray}, AbstractArray...) at /home/tim/.julia/v0.4/DataArrays/src/broadcast.jl:295\n",
      "is ambiguous with: \n",
      "    .*(Images.AbstractImageDirect, AbstractArray) at /home/tim/.julia/v0.4/Images/src/algorithms.jl:51.\n",
      "To fix, define \n",
      "    .*(Images.AbstractImageDirect, Union{DataArrays.DataArray, DataArrays.PooledDataArray})\n",
      "before the new definition.\n",
      "WARNING: New definition \n",
      "    -(DataArrays.DataArray, AbstractArray) at /home/tim/.julia/v0.4/DataArrays/src/operators.jl:326\n",
      "is ambiguous with: \n",
      "    -(AbstractArray, Images.AbstractImageDirect) at /home/tim/.julia/v0.4/Images/src/algorithms.jl:37.\n",
      "To fix, define \n",
      "    -(DataArrays.DataArray, Images.AbstractImageDirect)\n",
      "before the new definition.\n",
      "WARNING: New definition \n",
      "    -(AbstractArray, DataArrays.DataArray) at /home/tim/.julia/v0.4/DataArrays/src/operators.jl:326\n",
      "is ambiguous with: \n",
      "    -(Images.AbstractImageDirect, AbstractArray) at /home/tim/.julia/v0.4/Images/src/algorithms.jl:35.\n",
      "To fix, define \n",
      "    -(Images.AbstractImageDirect, DataArrays.DataArray)\n",
      "before the new definition.\n",
      "WARNING: New definition \n",
      "    -(DataArrays.AbstractDataArray, AbstractArray) at /home/tim/.julia/v0.4/DataArrays/src/operators.jl:349\n",
      "is ambiguous with: \n",
      "    -(AbstractArray, Images.AbstractImageDirect) at /home/tim/.julia/v0.4/Images/src/algorithms.jl:37.\n",
      "To fix, define \n",
      "    -(DataArrays.AbstractDataArray, Images.AbstractImageDirect)\n",
      "before the new definition.\n",
      "WARNING: New definition \n",
      "    -(AbstractArray, DataArrays.AbstractDataArray) at /home/tim/.julia/v0.4/DataArrays/src/operators.jl:349\n",
      "is ambiguous with: \n",
      "    -(Images.AbstractImageDirect, AbstractArray) at /home/tim/.julia/v0.4/Images/src/algorithms.jl:35.\n",
      "To fix, define \n",
      "    -(Images.AbstractImageDirect, DataArrays.AbstractDataArray)\n",
      "before the new definition.\n",
      "WARNING: New definition \n",
      "    .<(AbstractArray{Bool, N<:Any}, Union{DataArrays.PooledDataArray{Bool, R<:Integer, N<:Any}, DataArrays.DataArray{Bool, N<:Any}}) at /home/tim/.julia/v0.4/DataArrays/src/broadcast.jl:330\n",
      "is ambiguous with: \n",
      "    .<(Images.AbstractImageDirect{Bool, N<:Any}, AbstractArray{Bool, N<:Any}) at /home/tim/.julia/v0.4/Images/src/algorithms.jl:177.\n",
      "To fix, define \n",
      "    .<(Images.AbstractImageDirect{Bool, N<:Any}, Union{DataArrays.PooledDataArray{Bool, R<:Integer, N<:Any}, DataArrays.DataArray{Bool, N<:Any}})\n",
      "before the new definition.\n",
      "WARNING: New definition \n",
      "    .<(AbstractArray, Union{DataArrays.DataArray, DataArrays.PooledDataArray}) at /home/tim/.julia/v0.4/DataArrays/src/broadcast.jl:285\n",
      "is ambiguous with: \n",
      "    .<(Images.AbstractImageDirect{Bool, N<:Any}, AbstractArray{Bool, N<:Any}) at /home/tim/.julia/v0.4/Images/src/algorithms.jl:177.\n",
      "To fix, define \n",
      "    .<(Images.AbstractImageDirect{Bool, N<:Any}, Union{DataArrays.DataArray{Bool, N<:Any}, DataArrays.PooledDataArray{Bool, R<:Integer, N<:Any}})\n",
      "before the new definition.\n",
      "WARNING: New definition \n",
      "    .<(AbstractArray, Union{DataArrays.DataArray, DataArrays.PooledDataArray}) at /home/tim/.julia/v0.4/DataArrays/src/broadcast.jl:285\n",
      "is ambiguous with: \n",
      "    .<(Images.AbstractImageDirect, AbstractArray) at /home/tim/.julia/v0.4/Images/src/algorithms.jl:178.\n",
      "To fix, define \n",
      "    .<(Images.AbstractImageDirect, Union{DataArrays.DataArray, DataArrays.PooledDataArray})\n",
      "before the new definition.\n",
      "WARNING: imported binding for Plots overwritten in module Main\n",
      "WARNING: Error requiring Plots from OnlineStats:\n",
      "LoadError: UndefVarError: OnlineStat not defined\n",
      "while loading /home/tim/.julia/v0.4/OnlineStats/src/plots.jl, in expression starting on line 433\n",
      "WARNING: Base.String is deprecated, use AbstractString instead.\n",
      "  likely near /home/tim/.julia/v0.4/MLBase/src/modeltune.jl:5\n",
      "WARNING: Base.String is deprecated, use AbstractString instead.\n",
      "  likely near /home/tim/.julia/v0.4/MLBase/src/modeltune.jl:5\n",
      "WARNING: Base.String is deprecated, use AbstractString instead.\n",
      "  likely near /home/tim/.julia/v0.4/MLBase/src/modeltune.jl:5\n",
      "WARNING: Base.FloatingPoint is deprecated, use AbstractFloat instead.\n",
      "  likely near /home/tim/.julia/v0.4/MLBase/src/deprecated/datapre.jl:104\n",
      "WARNING: Base.FloatingPoint is deprecated, use AbstractFloat instead.\n",
      "  likely near /home/tim/.julia/v0.4/MLBase/src/deprecated/datapre.jl:105\n",
      "WARNING: Base.FloatingPoint is deprecated, use AbstractFloat instead.\n",
      "  likely near /home/tim/.julia/v0.4/MLBase/src/deprecated/datapre.jl:163\n",
      "WARNING: Base.FloatingPoint is deprecated, use AbstractFloat instead.\n",
      "  likely near /home/tim/.julia/v0.4/MLBase/src/deprecated/datapre.jl:163\n",
      "WARNING: Base.FloatingPoint is deprecated, use AbstractFloat instead.\n",
      "  likely near /home/tim/.julia/v0.4/MLBase/src/deprecated/datapre.jl:163\n",
      "WARNING: using MLBase.standardize! in module Main conflicts with an existing identifier.\n",
      "WARNING: using MLBase.standardize in module Main conflicts with an existing identifier.\n",
      "WARNING: using Smile.get_name in module Main conflicts with an existing identifier.\n",
      "WARNING: using Smile.get_edge in module Main conflicts with an existing identifier.\n"
     ]
    },
    {
     "data": {
      "text/plain": [
       "plot_convergence (generic function with 1 method)"
      ]
     },
     "execution_count": 2,
     "metadata": {},
     "output_type": "execute_result"
    }
   ],
   "source": [
    "cd(\"..\")\n",
    "include(\"full_scene.jl\")"
   ]
  },
  {
   "cell_type": "markdown",
   "metadata": {},
   "source": [
    "# Load Factor Graph Model"
   ]
  },
  {
   "cell_type": "code",
   "execution_count": 3,
   "metadata": {
    "collapsed": false
   },
   "outputs": [
    {
     "name": "stdout",
     "output_type": "stream",
     "text": [
      "save time: 2016-06-08T11:00:08\n",
      "DONE"
     ]
    },
    {
     "name": "stderr",
     "output_type": "stream",
     "text": [
      "WARNING: redefining constant SAVE_DIR\n",
      "WARNING: redefining constant FLOATING_POINT_REGEX\n",
      "WARNING: redefining constant _RoadFeature_BINS_V\n",
      "WARNING: redefining constant _RoadFeature_BINS_T\n",
      "WARNING: redefining constant _RoadFeature_BINS_ϕ\n",
      "WARNING: redefining constant _RoadFeatureScope\n",
      "WARNING: redefining constant _FollowFeature_BINS_ΔS\n",
      "WARNING: redefining constant _FollowFeature_BINS_ΔV\n",
      "WARNING: redefining constant _FollowFeatureScope\n",
      "WARNING: redefining constant _NeighborFeatureScope\n",
      "WARNING: redefining constant REGIONS\n",
      "WARNING: redefining constant EXPECTATION_SOLVER_COLOR_DICT\n"
     ]
    },
    {
     "name": "stdout",
     "output_type": "stream",
     "text": [
      "\n"
     ]
    }
   ],
   "source": [
    "include(\"full_scene.jl\")\n",
    "\n",
    "model_file = get_most_resent_file(\"output\")\n",
    "saved_model = JLD.load(model_file)\n",
    "println(\"save time: \", saved_model[\"time\"])\n",
    "\n",
    "factors = create_core_factors()\n",
    "set_weights!(factors, saved_model[\"weights\"])\n",
    "println(\"DONE\")"
   ]
  },
  {
   "cell_type": "markdown",
   "metadata": {},
   "source": [
    "# Load Dataset"
   ]
  },
  {
   "cell_type": "code",
   "execution_count": 4,
   "metadata": {
    "collapsed": false
   },
   "outputs": [
    {
     "name": "stdout",
     "output_type": "stream",
     "text": [
      "elapsed time: 1.195918624 seconds\n",
      "nscenes: 3977\n",
      "nvehstates: 87201\n",
      "ave veh / scene: 21.926326376665827\n",
      "elapsed time: "
     ]
    },
    {
     "name": "stderr",
     "output_type": "stream",
     "text": [
      "WARNING: redefining constant SAVE_DIR\n",
      "WARNING: redefining constant FLOATING_POINT_REGEX\n",
      "WARNING: redefining constant _RoadFeature_BINS_V\n",
      "WARNING: redefining constant _RoadFeature_BINS_T\n",
      "WARNING: redefining constant _RoadFeature_BINS_ϕ\n",
      "WARNING: redefining constant _RoadFeatureScope\n",
      "WARNING: redefining constant _FollowFeature_BINS_ΔS\n",
      "WARNING: redefining constant _FollowFeature_BINS_ΔV\n",
      "WARNING: redefining constant _FollowFeatureScope\n",
      "WARNING: redefining constant _NeighborFeatureScope\n",
      "WARNING: redefining constant REGIONS\n",
      "WARNING: redefining constant EXPECTATION_SOLVER_COLOR_DICT\n"
     ]
    },
    {
     "name": "stdout",
     "output_type": "stream",
     "text": [
      "0.826712906 seconds\n"
     ]
    },
    {
     "data": {
      "text/plain": [
       "0.826712906"
      ]
     },
     "execution_count": 4,
     "metadata": {},
     "output_type": "execute_result"
    }
   ],
   "source": [
    "include(\"full_scene.jl\")\n",
    "tic()\n",
    "dsetexp = JLD.load(\"output/dsetexport.jld\", \"dsetexp\")\n",
    "toc()\n",
    "\n",
    "println(\"nscenes: \", length(dsetexp.scenes))\n",
    "println(\"nvehstates: \", length(dsetexp.states))\n",
    "println(\"ave veh / scene: \", length(dsetexp.states)/length(dsetexp.scenes))\n",
    "\n",
    "tic()\n",
    "dset = reconstruct_dataset(dsetexp, create_core_factors())\n",
    "toc()"
   ]
  },
  {
   "cell_type": "code",
   "execution_count": 15,
   "metadata": {
    "collapsed": false
   },
   "outputs": [
    {
     "name": "stderr",
     "output_type": "stream",
     "text": [
      "WARNING: redefining constant SAVE_DIR\n",
      "WARNING: redefining constant FLOATING_POINT_REGEX\n",
      "WARNING: redefining constant _RoadFeature_BINS_V\n",
      "WARNING: redefining constant _RoadFeature_BINS_T\n",
      "WARNING: redefining constant _RoadFeature_BINS_ϕ\n",
      "WARNING: redefining constant _RoadFeatureScope\n",
      "WARNING: redefining constant _FollowFeature_BINS_ΔS\n",
      "WARNING: redefining constant _FollowFeature_BINS_ΔV\n",
      "WARNING: redefining constant _FollowFeatureScope\n",
      "WARNING: redefining constant _NeighborFeatureScope\n",
      "WARNING: redefining constant REGIONS\n",
      "WARNING: redefining constant EXPECTATION_SOLVER_COLOR_DICT\n"
     ]
    }
   ],
   "source": [
    "include(\"full_scene.jl\")\n",
    "canvas_width = 600\n",
    "canvas_height = 600\n",
    "output_dir = \"/home/tim/Documents/papers/2016_itsc_scenegen_wheeler/figures/\"\n",
    "\n",
    "real\n",
    "scene_indeces = [1, 1001, 2201]\n",
    "for (i,scene_index) in enumerate(scene_indeces)\n",
    "    scene_index = scene_indeces[i]\n",
    "    scene, structure = get_scene_and_structure(dset, scene_index)\n",
    "    filename = joinpath(output_dir, @sprintf(\"scene%d_real.pdf\", i))\n",
    "    fout = open(filename, \"w\")\n",
    "    s = CairoPDFSurface(filename, canvas_width, canvas_height)\n",
    "    rendermodel = RenderModel()\n",
    "    rendermodel.color_transform = grayscale_transform\n",
    "    render_scene!(scene, camerazoom=2.5,\n",
    "        canvas_width=canvas_width, canvas_height=canvas_height, s=s, rendermodel=rendermodel\n",
    "    )\n",
    "    finish(s)\n",
    "end\n",
    "\n",
    "# rand\n",
    "proposal_distribution = MvNormal([2.0, 0.5, 1.0, 0.01]) # s, t, v, theta standard deviations\n",
    "n_steps = 1000\n",
    "extractor = Scene()\n",
    "\n",
    "for (i,scene_index) in enumerate(scene_indeces)\n",
    "    scene, structure = get_scene_and_structure(dset, scene_index)\n",
    "    copy!(extractor, scene)\n",
    "    metropolis_hastings!(extractor, structure, factors, proposal_distribution, n_steps)\n",
    "    \n",
    "    filename = joinpath(output_dir, @sprintf(\"scene%d_rand.pdf\", i))\n",
    "    fout = open(filename, \"w\")\n",
    "    s = CairoPDFSurface(filename, canvas_width, canvas_height)\n",
    "    rendermodel = RenderModel()\n",
    "    rendermodel.color_transform = grayscale_transform\n",
    "    render_scene!(extractor, camerazoom=2.5,\n",
    "        canvas_width=canvas_width, canvas_height=canvas_height, s=s, rendermodel=rendermodel\n",
    "    )\n",
    "    finish(s)\n",
    "end"
   ]
  },
  {
   "cell_type": "code",
   "execution_count": 20,
   "metadata": {
    "collapsed": false
   },
   "outputs": [
    {
     "data": {
      "text/html": [],
      "text/plain": [
       "Interact.Slider{Int64}(Signal{Int64}(1989, nactions=0),\"scene_index\",1989,1:3977,true)"
      ]
     },
     "metadata": {},
     "output_type": "display_data"
    },
    {
     "data": {
      "image/png": "[encoded data removed]",
      "text/plain": [
       "Cairo.CairoSurface(Ptr{Void} @0x0000000004d30300,600.0,600.0,#undef)"
      ]
     },
     "execution_count": 20,
     "metadata": {
      "comm_id": "013a5583-4029-4c68-9205-ea9a3d544ace",
      "reactive": true
     },
     "output_type": "execute_result"
    }
   ],
   "source": [
    "@manipulate for scene_index in 1 : length(dset)\n",
    "    scene, structure = get_scene_and_structure(dset, scene_index)\n",
    "    render_scene!(scene, camerazoom=2.5) # structure\n",
    "end"
   ]
  },
  {
   "cell_type": "markdown",
   "metadata": {},
   "source": [
    "# Sample Metropolis-Hastings Dataset"
   ]
  },
  {
   "cell_type": "code",
   "execution_count": 11,
   "metadata": {
    "collapsed": false
   },
   "outputs": [
    {
     "data": {
      "text/html": [],
      "text/plain": [
       "Interact.Slider{Int64}(Signal{Int64}(50, nactions=0),\"step\",50,1:100,true)"
      ]
     },
     "metadata": {},
     "output_type": "display_data"
    },
    {
     "name": "stderr",
     "output_type": "stream",
     "text": [
      "WARNING: redefining constant SAVE_DIR\n",
      "WARNING: redefining constant FLOATING_POINT_REGEX\n",
      "WARNING: redefining constant _RoadFeature_BINS_V\n",
      "WARNING: redefining constant _RoadFeature_BINS_T\n",
      "WARNING: redefining constant _RoadFeature_BINS_ϕ\n",
      "WARNING: redefining constant _RoadFeatureScope\n",
      "WARNING: redefining constant _FollowFeature_BINS_ΔS\n",
      "WARNING: redefining constant _FollowFeature_BINS_ΔV\n",
      "WARNING: redefining constant _FollowFeatureScope\n",
      "WARNING: redefining constant _NeighborFeatureScope\n",
      "WARNING: redefining constant REGIONS\n",
      "WARNING: redefining constant EXPECTATION_SOLVER_COLOR_DICT\n"
     ]
    },
    {
     "ename": "LoadError",
     "evalue": "LoadError: UndefVarError: paint_with_alpha not defined\nwhile loading In[11], in expression starting on line 9",
     "output_type": "error",
     "traceback": [
      "LoadError: UndefVarError: paint_with_alpha not defined\nwhile loading In[11], in expression starting on line 9",
      ""
     ]
    }
   ],
   "source": [
    "include(\"full_scene.jl\")\n",
    "\n",
    "scene_index = 1000\n",
    "proposal_distribution = MvNormal([2.0, 0.5, 1.0, 0.01]) # s, t, v, theta standard deviations\n",
    "scene, structure = get_scene_and_structure(dset, scene_index)\n",
    "scene = deepcopy(scene)\n",
    "n_steps = 5\n",
    "\n",
    "@manipulate for step in 1 : 100\n",
    "    metropolis_hastings!(scene, structure, factors, proposal_distribution, n_steps)\n",
    "    render_scene!(scene, structure, camerazoom=1.5)\n",
    "end"
   ]
  },
  {
   "cell_type": "code",
   "execution_count": 26,
   "metadata": {
    "collapsed": false
   },
   "outputs": [
    {
     "name": "stderr",
     "output_type": "stream",
     "text": [
      "WARNING: redefining constant SAVE_DIR\n",
      "WARNING: redefining constant FLOATING_POINT_REGEX\n",
      "WARNING: redefining constant _RoadFeature_BINS_V\n",
      "WARNING: redefining constant _RoadFeature_BINS_T\n",
      "WARNING: redefining constant _RoadFeature_BINS_ϕ\n",
      "WARNING: redefining constant _RoadFeatureScope\n",
      "WARNING: redefining constant _FollowFeature_BINS_ΔS\n",
      "WARNING: redefining constant _FollowFeature_BINS_ΔV\n",
      "WARNING: redefining constant _FollowFeatureScope\n",
      "WARNING: redefining constant _NeighborFeatureScope\n",
      "WARNING: redefining constant REGIONS\n",
      "WARNING: redefining constant EXPECTATION_SOLVER_COLOR_DICT\n"
     ]
    }
   ],
   "source": [
    "include(\"full_scene.jl\")\n",
    "transition = MvNormal([2.0, 0.5, 1.0, 0.01]) # s, t, v, theta standard deviations\n",
    "dataset_size = 1000\n",
    "nsteps_burnin = 1000\n",
    "FG = FactorGraphSceneGenerator(factors, transition, nsteps_burnin)\n",
    "\n",
    "tic()\n",
    "dset_FG = generate_dset(FG, dset, dataset_size)\n",
    "toc()\n",
    "JLD.save(joinpath(SAVE_DIR, \"dset_FG.jld\"), \"dset\", dset_FG, \"time\", string(now()))\n",
    "\"done\""
   ]
  },
  {
   "cell_type": "code",
   "execution_count": 9,
   "metadata": {
    "collapsed": false
   },
   "outputs": [
    {
     "data": {
      "text/html": [],
      "text/plain": [
       "Interact.Slider{Int64}(Signal{Int64}(500, nactions=0),\"scene_index\",500,1:1000,true)"
      ]
     },
     "metadata": {},
     "output_type": "display_data"
    },
    {
     "data": {
      "image/png": "[encoded data removed]",
      "text/plain": [
       "Cairo.CairoSurface(Ptr{Void} @0x00000000073b4e50,600.0,600.0,#undef)"
      ]
     },
     "execution_count": 9,
     "metadata": {
      "comm_id": "1044a938-c576-4813-a231-bc7cf29ca639",
      "reactive": true
     },
     "output_type": "execute_result"
    }
   ],
   "source": [
    "@manipulate for scene_index in 1 : length(scenes_FG)\n",
    "    scene = scenes_FG[scene_index]\n",
    "    render_scene!(scene, camerazoom=1.5)\n",
    "end"
   ]
  },
  {
   "cell_type": "code",
   "execution_count": 30,
   "metadata": {
    "collapsed": false
   },
   "outputs": [
    {
     "name": "stdout",
     "output_type": "stream",
     "text": [
      "elapsed time: 5.349481342 seconds\n"
     ]
    },
    {
     "name": "stderr",
     "output_type": "stream",
     "text": [
      "WARNING: redefining constant SAVE_DIR\n",
      "WARNING: redefining constant FLOATING_POINT_REGEX\n",
      "WARNING: redefining constant _RoadFeature_BINS_V\n",
      "WARNING: redefining constant _RoadFeature_BINS_T\n",
      "WARNING: redefining constant _RoadFeature_BINS_ϕ\n",
      "WARNING: redefining constant _RoadFeatureScope\n",
      "WARNING: redefining constant _FollowFeature_BINS_ΔS\n",
      "WARNING: redefining constant _FollowFeature_BINS_ΔV\n",
      "WARNING: redefining constant _FollowFeatureScope\n",
      "WARNING: redefining constant _NeighborFeatureScope\n",
      "WARNING: redefining constant REGIONS\n"
     ]
    },
    {
     "name": "stdout",
     "output_type": "stream",
     "text": [
      "elapsed time: 2.293537834 seconds\n"
     ]
    }
   ],
   "source": [
    "include(\"full_scene.jl\")\n",
    "roadscenes = get_roadscene_dset(dset)\n",
    "nbins = Dict{Symbol, Int}(:speed=>5, :d_cl=>5, :yaw=>5, :d_front=>5, :v_front=>5, :d_rear=>5, :v_rear=>5)\n",
    "\n",
    "tic()\n",
    "BN = train_jointbnchainscenegenerator(roadscenes, nbins)\n",
    "toc()\n",
    "\n",
    "tic()\n",
    "dset_BN = generate_dset(BN, dset, dataset_size)\n",
    "toc()\n",
    "JLD.save(joinpath(SAVE_DIR, \"dset_BN.jld\"), \"dset\", dset_BN, \"time\", string(now()))\n",
    "nothing"
   ]
  },
  {
   "cell_type": "code",
   "execution_count": null,
   "metadata": {
    "collapsed": true
   },
   "outputs": [],
   "source": []
  }
 ],
 "metadata": {
  "kernelspec": {
   "display_name": "Julia 0.4.1",
   "language": "julia",
   "name": "julia-0.4"
  },
  "language_info": {
   "file_extension": ".jl",
   "mimetype": "application/julia",
   "name": "julia",
   "version": "0.4.1"
  }
 },
 "nbformat": 4,
 "nbformat_minor": 0
}
